{
 "cells": [
  {
   "cell_type": "markdown",
   "metadata": {},
   "source": [
    "## Implement Linear Regression (Gradient Descent) with 1 variable"
   ]
  },
  {
   "cell_type": "markdown",
   "metadata": {},
   "source": [
    "\n",
    "Using Gradient-descent minimize Loss function of LR\n",
    "\n",
    "L = (1/n) * Sum((y_pred - y)**2)\n",
    "\n",
    "beta = [a, b]\n",
    "y_pred = a + b * x\n",
    "\n",
    "1) Choose random betas\n",
    "\n",
    "2) Calculate the derivative of the loss function for the first betas\n",
    "\n",
    "3) Choose second set of betas by moving in the opposite direction of derivative\n",
    "\n",
    "4) Calculate the derivative of the loss function for the netx set of betas\n",
    "\n",
    "5) If the derivative is equal (or close) to zero - STOP\n",
    "\n",
    "   In other cases continue choosing new betas and checking the derivative of the Loss f.\n",
    "\n"
   ]
  },
  {
   "cell_type": "code",
   "execution_count": 1,
   "metadata": {},
   "outputs": [],
   "source": [
    "import pandas as pd\n",
    "import numpy as np\n",
    "from sklearn.model_selection import train_test_split\n",
    "from matplotlib import pyplot as plt \n",
    "from sklearn.metrics import mean_squared_error\n",
    "from sklearn.metrics import r2_score"
   ]
  },
  {
   "cell_type": "code",
   "execution_count": 2,
   "metadata": {},
   "outputs": [],
   "source": [
    "#y = 3 + 2x"
   ]
  },
  {
   "cell_type": "code",
   "execution_count": 3,
   "metadata": {},
   "outputs": [],
   "source": [
    "a0 = 3\n",
    "b0 = 2"
   ]
  },
  {
   "cell_type": "code",
   "execution_count": 4,
   "metadata": {},
   "outputs": [],
   "source": [
    "x = np.linspace(-5,10,1000)\n",
    "y = a0 + b0*x + np.random.normal(0,2,1000)"
   ]
  },
  {
   "cell_type": "code",
   "execution_count": 5,
   "metadata": {},
   "outputs": [
    {
     "data": {
      "image/png": "[encoded data removed]",
      "text/plain": [
       "<Figure size 432x288 with 1 Axes>"
      ]
     },
     "metadata": {
      "needs_background": "light"
     },
     "output_type": "display_data"
    }
   ],
   "source": [
    "plt.scatter(x,y)\n",
    "plt.show()"
   ]
  },
  {
   "cell_type": "code",
   "execution_count": 6,
   "metadata": {},
   "outputs": [
    {
     "name": "stdout",
     "output_type": "stream",
     "text": [
      "519\n",
      "2.9832917459048716 1.9897735709442408\n"
     ]
    }
   ],
   "source": [
    "a = 4\n",
    "b = 3\n",
    "\n",
    "y_pred = a + b*x \n",
    "\n",
    "n = len(x)\n",
    "\n",
    "L = (1/n) * np.sum((y_pred - y)**2)\n",
    "\n",
    "c = 0.02\n",
    "\n",
    "max_iter = 1000\n",
    "metric_change = 0.00000000000000000001\n",
    "\n",
    "for i in range(max_iter):\n",
    "    pDa = (1/n) * np.sum(2 * (a + b * x - y ) * 1)\n",
    "    pDb = (1/n) * np.sum(2 * (a + b * x - y ) * x)\n",
    "    \n",
    "    a = a - c * pDa\n",
    "    b = b - c * pDb\n",
    "    \n",
    "    L_change = L - (1/n) * np.sum((a + b * x - y)**2)\n",
    "    L = (1/n) * np.sum((a + b * x - y)**2)\n",
    "    \n",
    "    if(L_change <= metric_change):\n",
    "        print(i)\n",
    "        break\n",
    "\n",
    "print(a,b)"
   ]
  },
  {
   "cell_type": "markdown",
   "metadata": {},
   "source": [
    "LinearRegression class implementation for 1 variable"
   ]
  },
  {
   "cell_type": "code",
   "execution_count": 7,
   "metadata": {},
   "outputs": [],
   "source": [
    "class LinearRegression:\n",
    "    def __init__(self, w0,w1,max_iteration,lr=0.001, metric_change = 0.0000000001):\n",
    "        self.lr = lr\n",
    "        self.w0 = w0\n",
    "        self.w1 = w1\n",
    "        self.max_iteration = max_iteration\n",
    "        self.metric_change = metric_change\n",
    "    \n",
    "    def cost_function(self,x,y):\n",
    "        n = len(x)\n",
    "       \n",
    "        \n",
    "        pDw0 = (2/n) * np.sum((self.w0 + self.w1*x) - y)\n",
    "        pDw1 = (2/n) * np.sum((self.w0 + self.w1*x - y) * x)\n",
    "        \n",
    "        return pDw0, pDw1\n",
    "        \n",
    "        \n",
    "    def update_weights(self, x,y):\n",
    "        \n",
    "        pDw0, pDw1 = self.cost_function(x,y)\n",
    "        \n",
    "        self.w0 = self.w0 - self.lr * pDw0\n",
    "        self.w1 = self.w1 -self.lr * pDw1\n",
    "        \n",
    "        #print(self.w0,self.w1)\n",
    "              \n",
    "    \n",
    "    def fit(self, x_train, y_train):\n",
    "        for i in range(self.max_iteration):\n",
    "            \n",
    "            L =  np.mean((self.w0 + self.w1*x_train - y_train)**2)\n",
    "            \n",
    "            self.update_weights(x_train,y_train)\n",
    "            \n",
    "            L_change = L -  np.mean((self.w0 + self.w1*x_train - y_train)**2)\n",
    "            \n",
    "            if (L_change <= self.metric_change):\n",
    "   \n",
    "                 break   \n",
    "                 \n",
    "    def predict(self, x_test):\n",
    "        \n",
    "        y_pred = self.w0 + self.w1*x_test\n",
    "        return y_pred"
   ]
  },
  {
   "cell_type": "markdown",
   "metadata": {},
   "source": [
    "use case of LinearRegression class"
   ]
  },
  {
   "cell_type": "code",
   "execution_count": 8,
   "metadata": {},
   "outputs": [],
   "source": [
    "x_train,x_test,y_train,y_test = train_test_split(x,y, test_size=0.2, random_state = 37 )"
   ]
  },
  {
   "cell_type": "code",
   "execution_count": 9,
   "metadata": {},
   "outputs": [],
   "source": [
    "model = LinearRegression(w0 = 2,w1 = 1,max_iteration = 2000)\n",
    "model.fit(x_train,y_train)"
   ]
  },
  {
   "cell_type": "code",
   "execution_count": 10,
   "metadata": {},
   "outputs": [],
   "source": [
    "y_pred = model.predict(x_test)"
   ]
  },
  {
   "cell_type": "code",
   "execution_count": 11,
   "metadata": {
    "scrolled": true
   },
   "outputs": [
    {
     "data": {
      "text/plain": [
       "4.765653668514323"
      ]
     },
     "execution_count": 11,
     "metadata": {},
     "output_type": "execute_result"
    }
   ],
   "source": [
    "mean_squared_error(y_test,y_pred)"
   ]
  },
  {
   "cell_type": "code",
   "execution_count": 12,
   "metadata": {},
   "outputs": [
    {
     "data": {
      "text/plain": [
       "0.9450865105582563"
      ]
     },
     "execution_count": 12,
     "metadata": {},
     "output_type": "execute_result"
    }
   ],
   "source": [
    "r2_score(y_test, y_pred)"
   ]
  },
  {
   "cell_type": "markdown",
   "metadata": {},
   "source": [
    "## Implement Linear Regression (Gradient Descent) for unlimited number of variables"
   ]
  },
  {
   "cell_type": "code",
   "execution_count": 13,
   "metadata": {},
   "outputs": [],
   "source": [
    "class LinearRegression_:\n",
    "    def __init__(self,lr = 0.01, max_iter = 1000,tol = 0.001):\n",
    "        self.lr = lr\n",
    "        self.w = np.array([])\n",
    "        self.max_iter = max_iter\n",
    "        self.tol = tol\n",
    "    def cost_function(self,X,y):\n",
    "        X = np.array(X)\n",
    "        y = np.array(y)\n",
    "        \n",
    "        if(X.ndim == 1):\n",
    "            X = X.reshape(-1,1)\n",
    "            \n",
    "        n = X.shape[0]\n",
    "        X = np.concatenate((np.ones((n,1)),X),axis = 1)\n",
    "        \n",
    "        return (X @ self.w - y).T @ (X @ self.w - y) / n\n",
    "    \n",
    "    def update_weights(self,X,y):\n",
    "        n = X.shape[0]\n",
    "        grad = (1/n) * X.T @ (X @ self.w - y)\n",
    "        self.w -= self.lr * grad\n",
    "    \n",
    "    def fit(self,x_train,y_train):\n",
    "        x_train = np.array(x_train)\n",
    "        y_train = np.array(y_train)\n",
    "        \n",
    "        n = x_train.shape[0]\n",
    "        X = np.concatenate((np.ones((n,1)),x_train),axis = 1)\n",
    "        self.w = np.zeros(X.shape[1]) \n",
    "        \n",
    "        for _ in range(self.max_iter):\n",
    "            cost_prev = self.cost_function(x_train,y_train)\n",
    "            self.update_weights(X,y_train)\n",
    "            \n",
    "            if abs(cost_prev - self.cost_function(x_train,y_train) <= self.tol):\n",
    "                break\n",
    "    def predict(self,x_test):\n",
    "        x_test = np.array(x_test)\n",
    "        if x_test.ndim == 1 :\n",
    "            x_test = x_test.reshape(-1,1)\n",
    "        \n",
    "        x_test = np.concatenate((np.ones((x_test.shape[0],1)),x_test),axis = 1)\n",
    "        y_pred = x_test @ self.w\n",
    "        return y_pred\n",
    "    \n",
    "    "
   ]
  },
  {
   "cell_type": "code",
   "execution_count": 14,
   "metadata": {},
   "outputs": [
    {
     "data": {
      "text/html": [
       "<div>\n",
       "<style scoped>\n",
       "    .dataframe tbody tr th:only-of-type {\n",
       "        vertical-align: middle;\n",
       "    }\n",
       "\n",
       "    .dataframe tbody tr th {\n",
       "        vertical-align: top;\n",
       "    }\n",
       "\n",
       "    .dataframe thead th {\n",
       "        text-align: right;\n",
       "    }\n",
       "</style>\n",
       "<table border=\"1\" class=\"dataframe\">\n",
       "  <thead>\n",
       "    <tr style=\"text-align: right;\">\n",
       "      <th></th>\n",
       "      <th>Avg Session Length</th>\n",
       "      <th>Time on App</th>\n",
       "      <th>Time on Website</th>\n",
       "      <th>Length of Membership</th>\n",
       "      <th>Yearly Amount Spent</th>\n",
       "    </tr>\n",
       "  </thead>\n",
       "  <tbody>\n",
       "    <tr>\n",
       "      <th>0</th>\n",
       "      <td>34.497268</td>\n",
       "      <td>12.655651</td>\n",
       "      <td>39.577668</td>\n",
       "      <td>4.082621</td>\n",
       "      <td>587.951054</td>\n",
       "    </tr>\n",
       "    <tr>\n",
       "      <th>1</th>\n",
       "      <td>31.926272</td>\n",
       "      <td>11.109461</td>\n",
       "      <td>37.268959</td>\n",
       "      <td>2.664034</td>\n",
       "      <td>392.204933</td>\n",
       "    </tr>\n",
       "    <tr>\n",
       "      <th>2</th>\n",
       "      <td>33.000915</td>\n",
       "      <td>11.330278</td>\n",
       "      <td>37.110597</td>\n",
       "      <td>4.104543</td>\n",
       "      <td>487.547505</td>\n",
       "    </tr>\n",
       "    <tr>\n",
       "      <th>3</th>\n",
       "      <td>34.305557</td>\n",
       "      <td>13.717514</td>\n",
       "      <td>36.721283</td>\n",
       "      <td>3.120179</td>\n",
       "      <td>581.852344</td>\n",
       "    </tr>\n",
       "    <tr>\n",
       "      <th>4</th>\n",
       "      <td>33.330673</td>\n",
       "      <td>12.795189</td>\n",
       "      <td>37.536653</td>\n",
       "      <td>4.446308</td>\n",
       "      <td>599.406092</td>\n",
       "    </tr>\n",
       "  </tbody>\n",
       "</table>\n",
       "</div>"
      ],
      "text/plain": [
       "   Avg Session Length  Time on App  Time on Website  Length of Membership  \\\n",
       "0           34.497268    12.655651        39.577668              4.082621   \n",
       "1           31.926272    11.109461        37.268959              2.664034   \n",
       "2           33.000915    11.330278        37.110597              4.104543   \n",
       "3           34.305557    13.717514        36.721283              3.120179   \n",
       "4           33.330673    12.795189        37.536653              4.446308   \n",
       "\n",
       "   Yearly Amount Spent  \n",
       "0           587.951054  \n",
       "1           392.204933  \n",
       "2           487.547505  \n",
       "3           581.852344  \n",
       "4           599.406092  "
      ]
     },
     "execution_count": 14,
     "metadata": {},
     "output_type": "execute_result"
    }
   ],
   "source": [
    "df = pd.read_csv('C:/Users/anush/Downloads/Ecommerce.csv')\n",
    "df = df._get_numeric_data()\n",
    "df.head()"
   ]
  },
  {
   "cell_type": "code",
   "execution_count": 15,
   "metadata": {},
   "outputs": [],
   "source": [
    "xTrain, xTest, yTrain, yTest = train_test_split(df[df.columns.difference(['Yearly Amount Spent'])],df['Yearly Amount Spent'], test_size=0.2, random_state=10)"
   ]
  },
  {
   "cell_type": "code",
   "execution_count": 16,
   "metadata": {},
   "outputs": [
    {
     "data": {
      "text/plain": [
       "443.49757215937245"
      ]
     },
     "execution_count": 16,
     "metadata": {},
     "output_type": "execute_result"
    }
   ],
   "source": [
    "lr = LinearRegression_(lr = 0.00061, max_iter = 10000)\n",
    "lr.fit(xTrain,yTrain)\n",
    "yPred = lr.predict(xTest)\n",
    "lr.cost_function(xTest, yTest)"
   ]
  },
  {
   "cell_type": "code",
   "execution_count": 17,
   "metadata": {},
   "outputs": [
    {
     "data": {
      "text/plain": [
       "0.9246500615610129"
      ]
     },
     "execution_count": 17,
     "metadata": {},
     "output_type": "execute_result"
    }
   ],
   "source": [
    "r2_score(yPred, yTest)"
   ]
  }
 ],
 "metadata": {
  "kernelspec": {
   "display_name": "Python 3",
   "language": "python",
   "name": "python3"
  },
  "language_info": {
   "codemirror_mode": {
    "name": "ipython",
    "version": 3
   },
   "file_extension": ".py",
   "mimetype": "text/x-python",
   "name": "python",
   "nbconvert_exporter": "python",
   "pygments_lexer": "ipython3",
   "version": "3.8.5"
  }
 },
 "nbformat": 4,
 "nbformat_minor": 4
}
