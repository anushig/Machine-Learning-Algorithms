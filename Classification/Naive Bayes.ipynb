{
 "cells": [
  {
   "cell_type": "code",
   "execution_count": 1,
   "metadata": {},
   "outputs": [],
   "source": [
    "import numpy as np \n"
   ]
  },
  {
   "cell_type": "code",
   "execution_count": 2,
   "metadata": {},
   "outputs": [],
   "source": [
    "class NaiveBayes:\n",
    "    def __init__(self, distr='Gaussian'):\n",
    "        self.distr=distr\n",
    "        \n",
    "    def get_stats(self,x):\n",
    "        mean=[]\n",
    "        variance=[]\n",
    "        x=np.array(x)\n",
    "        for feature in range(x.shape[1]):\n",
    "            mean.append(np.mean(x[:,feature]))\n",
    "            variance.append(np.var(x[:,feature]))\n",
    "        return mean,variance\n",
    "\n",
    "    def pdf(self,x,mean,variance):\n",
    "        if self.distr=='Gaussian':\n",
    "            return 1/(variance*np.sqrt(2*np.pi))*np.exp((-1/2)*(x-mean)**2/variance**2)\n",
    "        if self.distr=='Laplace':\n",
    "            b=np.sqrt(variance/2)\n",
    "            return 1/(2*b)*np.exp(-np.absolute(x-mean)/b)            \n",
    "        \n",
    "    def fit(self, X_train, y_train):\n",
    "        self.means={}\n",
    "        self.var={}\n",
    "        self.apriori={}\n",
    "        X_train=np.array(X_train)\n",
    "        y_train=np.array(y_train)\n",
    "        N=y_train.size\n",
    "        self.classes=list(set(y_train))\n",
    "        class_data={}\n",
    "        \n",
    "        for cl in self.classes:\n",
    "            class_data[cl]=[]\n",
    "            \n",
    "        for obs_index in range(X_train.shape[0]):\n",
    "            class_data[y_train[obs_index]].append(X_train[obs_index])\n",
    "                  \n",
    "        for cl in self.classes:\n",
    "            self.means[cl]=self.get_stats(class_data[cl])[0]\n",
    "            self.var[cl]=self.get_stats(class_data[cl])[1]\n",
    "              \n",
    "        for cl in self.classes:\n",
    "            n=0\n",
    "            for i in y_train:\n",
    "                if i==cl:\n",
    "                    n+=1\n",
    "            self.apriori[cl]=n/N\n",
    "        return self.means,self.var,self.apriori          \n",
    "    \n",
    "    def predict_proba(self,X):\n",
    "        X=np.array(X)\n",
    "        self.probs=[]\n",
    "\n",
    "        for obs in X:\n",
    "            prob_classes=[]\n",
    "            for c in self.classes:\n",
    "                p=1\n",
    "                for i in range(obs.size):\n",
    "                    p=p*self.pdf(obs[i],self.means[c][i],self.var[c][i])\n",
    "                                    \n",
    "                prob_classes.append(self.apriori[c]*p)\n",
    "            s=0    \n",
    "            for i in prob_classes:\n",
    "                s=s+i\n",
    "            prob_classes=np.array(prob_classes)\n",
    "            prob_classes=prob_classes/s\n",
    "            self.probs.append(prob_classes)\n",
    "\n",
    "        return self.probs\n",
    "\n",
    "    def predict(self,x,threshold=0.6):\n",
    "        y_pred = self.predict_proba(x)\n",
    "        y_predicted=[]\n",
    "        for i in y_pred:\n",
    "            if max(y)>threshold:\n",
    "                y_predicted.append(np.random.choice(len(self.classes),p=list(i)))\n",
    "            else:\n",
    "                y_predicted.append(np.argmax(i))\n",
    "        \n",
    "        return y_predicted\n",
    "\n",
    "    def score(self,y_predicted,y_test):\n",
    "        comparison=map(lambda x, y: x==y, y_test, y_predicted)\n",
    "        n_true=0\n",
    "        N=0\n",
    "        for i in comparison:\n",
    "            N+=1\n",
    "            if i:\n",
    "                n_true+=1\n",
    "        return(n_true/N)\n",
    "                "
   ]
  },
  {
   "cell_type": "code",
   "execution_count": 9,
   "metadata": {},
   "outputs": [],
   "source": [
    "x=[[1,2,3],[2,3,4],[5,6,7],[7,8,9]]\n",
    "y=[0,0,1,1]"
   ]
  },
  {
   "cell_type": "code",
   "execution_count": 10,
   "metadata": {},
   "outputs": [],
   "source": [
    "nb=NaiveBayes()"
   ]
  },
  {
   "cell_type": "code",
   "execution_count": 11,
   "metadata": {},
   "outputs": [
    {
     "data": {
      "text/plain": [
       "({0: [1.5, 2.5, 3.5], 1: [6.0, 7.0, 8.0]},\n",
       " {0: [0.25, 0.25, 0.25], 1: [1.0, 1.0, 1.0]},\n",
       " {0: 0.5, 1: 0.5})"
      ]
     },
     "execution_count": 11,
     "metadata": {},
     "output_type": "execute_result"
    }
   ],
   "source": [
    "nb.fit(x,y)"
   ]
  },
  {
   "cell_type": "code",
   "execution_count": 12,
   "metadata": {},
   "outputs": [
    {
     "data": {
      "text/plain": [
       "[array([1.00000000e+00, 3.26244986e-16]),\n",
       " array([1.00000000e+00, 2.37968433e-10]),\n",
       " array([5.95722519e-126, 1.00000000e+000]),\n",
       " array([1.44486688e-313, 1.00000000e+000])]"
      ]
     },
     "execution_count": 12,
     "metadata": {},
     "output_type": "execute_result"
    }
   ],
   "source": [
    "nb.predict_proba(x)"
   ]
  },
  {
   "cell_type": "code",
   "execution_count": 13,
   "metadata": {},
   "outputs": [
    {
     "data": {
      "text/plain": [
       "[0, 0, 1, 1]"
      ]
     },
     "execution_count": 13,
     "metadata": {},
     "output_type": "execute_result"
    }
   ],
   "source": [
    "nb.predict(x)"
   ]
  }
 ],
 "metadata": {
  "kernelspec": {
   "display_name": "Python 3",
   "language": "python",
   "name": "python3"
  },
  "language_info": {
   "codemirror_mode": {
    "name": "ipython",
    "version": 3
   },
   "file_extension": ".py",
   "mimetype": "text/x-python",
   "name": "python",
   "nbconvert_exporter": "python",
   "pygments_lexer": "ipython3",
   "version": "3.8.5"
  }
 },
 "nbformat": 4,
 "nbformat_minor": 4
}
